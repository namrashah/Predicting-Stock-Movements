{
  "cells": [
    {
      "metadata": {
        "_uuid": "8f2839f25d086af736a60e9eeb907d3b93b6e0e5",
        "_cell_guid": "b1076dfc-b9ad-4769-8c92-a6c4dae69d19",
        "trusted": true
      },
      "cell_type": "code",
      "source": "# This Python 3 environment comes with many helpful analytics libraries installed\n# It is defined by the kaggle/python docker image: https://github.com/kaggle/docker-python\n# For example, here's several helpful packages to load in \n\nimport numpy as np # linear algebra\nimport pandas as pd # data processing, CSV file I/O (e.g. pd.read_csv)\n\n# Input data files are available in the \"../input/\" directory.\n# For example, running this (by clicking run or pressing Shift+Enter) will list the files in the input directory\nimport gc\nimport os\nprint(os.listdir(\"../input\"))\nimport time\n\n# Any results you write to the current directory are saved as output.",
      "execution_count": null,
      "outputs": []
    },
    {
      "metadata": {
        "_cell_guid": "79c7e3d0-c299-4dcb-8224-4455121ee9b0",
        "_uuid": "d629ff2d2480ee46fbb7e2d37f6b5fab8052498a",
        "trusted": true
      },
      "cell_type": "code",
      "source": "from kaggle.competitions import twosigmanews\nenv = twosigmanews.make_env()",
      "execution_count": null,
      "outputs": []
    },
    {
      "metadata": {
        "trusted": true,
        "_uuid": "34e32c673fcf58d9a7540224edac9d151b2f93af"
      },
      "cell_type": "code",
      "source": "gc.collect()",
      "execution_count": null,
      "outputs": []
    },
    {
      "metadata": {
        "trusted": true,
        "_uuid": "cf0a90ceea667c2fb0003ee24e8ed61872e01191"
      },
      "cell_type": "code",
      "source": "(m_train_dataFrame, n_train_dataFrame) = env.get_training_data()\nprint(m_train_dataFrame)",
      "execution_count": null,
      "outputs": []
    },
    {
      "metadata": {
        "trusted": true,
        "_uuid": "6c06a9763e2f64f7f402dde5684f153b44e3b3bf"
      },
      "cell_type": "code",
      "source": "",
      "execution_count": null,
      "outputs": []
    },
    {
      "metadata": {
        "trusted": true,
        "_uuid": "a41820c531ee6917ccfde2c1647298e74a35a110"
      },
      "cell_type": "code",
      "source": "print(n_train_dataFrame)",
      "execution_count": null,
      "outputs": []
    },
    {
      "metadata": {
        "trusted": true,
        "_uuid": "ddab77b18d81a3129b8065f4f23a5ef8c46cbe84"
      },
      "cell_type": "code",
      "source": "m_train_dataFrame.head()",
      "execution_count": null,
      "outputs": []
    },
    {
      "metadata": {
        "trusted": true,
        "_uuid": "f8923a60a0682310063e0a9d99d9ba9bd1fbe38e"
      },
      "cell_type": "code",
      "source": "m_train_dataFrame.tail()",
      "execution_count": null,
      "outputs": []
    },
    {
      "metadata": {
        "trusted": true,
        "_uuid": "e8a8cb04111b0ee2fc5dcb35535394f368e276e5"
      },
      "cell_type": "code",
      "source": "n_train_dataFrame.head()",
      "execution_count": null,
      "outputs": []
    },
    {
      "metadata": {
        "trusted": true,
        "_uuid": "6112cdd1aee574538d095180fe62c2ab2bcf6daf"
      },
      "cell_type": "code",
      "source": "n_train_dataFrame.tail()",
      "execution_count": null,
      "outputs": []
    },
    {
      "metadata": {
        "trusted": true,
        "_uuid": "ee7be4e0870706774e9a7d079ca113ca9e4caf35"
      },
      "cell_type": "code",
      "source": "print(m_train_dataFrame['universe'])",
      "execution_count": null,
      "outputs": []
    },
    {
      "metadata": {
        "trusted": true,
        "_uuid": "87fde69a6798f46f20c9a03cdb431dc76628b7af"
      },
      "cell_type": "code",
      "source": "",
      "execution_count": null,
      "outputs": []
    },
    {
      "metadata": {
        "trusted": true,
        "_uuid": "002c139e17f2af4618b9cbe0cccbe07513fd2dd3",
        "scrolled": false
      },
      "cell_type": "code",
      "source": "m_train_dataFrame = m_train_dataFrame.drop(['returnsClosePrevMktres1', 'returnsOpenPrevMktres1', 'returnsClosePrevMktres10', 'returnsOpenPrevMktres10'], axis=1)",
      "execution_count": null,
      "outputs": []
    },
    {
      "metadata": {
        "trusted": true,
        "_uuid": "cea87e2190d1fd54acbdd3c3abc02677ebfefff3"
      },
      "cell_type": "code",
      "source": "m_train_dataFrame['volume'] = m_train_dataFrame.volume.astype(int) ",
      "execution_count": null,
      "outputs": []
    },
    {
      "metadata": {
        "trusted": true,
        "_uuid": "b119f353a8cda345097d97360074892f001f5ccc"
      },
      "cell_type": "code",
      "source": "m_train_dataFrame['universe'] = m_train_dataFrame.universe.astype(int)",
      "execution_count": null,
      "outputs": []
    },
    {
      "metadata": {
        "trusted": true,
        "_uuid": "4ce964af0cdda0d2177fa56a35b721ea4122aaa6"
      },
      "cell_type": "code",
      "source": "m_train_dataFrame.round({'close': 2, 'open' : 2, 'returnsClosePrevRaw1' : 4, 'returnsOpenPrevRaw1' : 4, 'returnsClosePrevRaw10' : 4, 'returnsOpenPrevRaw10' : 4, 'returnsOpenNextMktres10' : 4})",
      "execution_count": null,
      "outputs": []
    },
    {
      "metadata": {
        "trusted": true,
        "_uuid": "af8f559ca7f9f73e479dc0e3dc5e45a71006f1c0"
      },
      "cell_type": "code",
      "source": "n_train_dataFrame.round({'relevance' : 3, 'sentimentNegative' : 3, 'sentimentNeutral' : 3, 'sentimentPositive' : 3})",
      "execution_count": null,
      "outputs": []
    },
    {
      "metadata": {
        "trusted": true,
        "_uuid": "3636ebb893a3a73395cdfadbf3b9f1becacd92ac",
        "scrolled": true
      },
      "cell_type": "code",
      "source": "",
      "execution_count": null,
      "outputs": []
    },
    {
      "metadata": {
        "trusted": true,
        "_uuid": "28cf28dfe24d4fe41f33acf927686bcd4162bf12"
      },
      "cell_type": "markdown",
      "source": "> > **Splitting column- subjects**"
    },
    {
      "metadata": {
        "trusted": true,
        "_uuid": "d0ed6f8b86c2524a05602e4dc4f882150f708e42"
      },
      "cell_type": "code",
      "source": "count = 0\nmax = count\nfor s in n_train_dataFrame['subjects']:\n    count = 0\n    for ch in s:\n        if(ch==','):\n            count += 1\n    if count>max:\n        max = count\nprint(max+1)",
      "execution_count": null,
      "outputs": []
    },
    {
      "metadata": {
        "_uuid": "cc358332c1788c4ad47c21baf269be65db2a8766"
      },
      "cell_type": "markdown",
      "source": "> **Splitting Column- audiences**"
    },
    {
      "metadata": {
        "trusted": true,
        "_uuid": "73ec8d723aa2716518a4b097cb65183815723a28"
      },
      "cell_type": "code",
      "source": "count = 0\nmax = count\nfor s in n_train_dataFrame['audiences']:\n    count = 0\n    for ch in s:\n        if(ch==','):\n            count += 1\n    if count>max:\n        max = count\nprint(max+1)",
      "execution_count": null,
      "outputs": []
    },
    {
      "metadata": {
        "_uuid": "e938f0399020bf66485681a6bacd197982a3c1a0"
      },
      "cell_type": "markdown",
      "source": "> **Splitting column assetCode**"
    },
    {
      "metadata": {
        "trusted": true,
        "_uuid": "5939af81eec4a16bed629f92eed309df0be69ea0"
      },
      "cell_type": "code",
      "source": "count = 0\nmax = count\nfor s in n_train_dataFrame['assetCodes']:\n    count = 0\n    for ch in s:\n        if(ch==','):\n            count += 1\n    if count>max:\n        max = count\nprint(max+1)",
      "execution_count": null,
      "outputs": []
    },
    {
      "metadata": {
        "trusted": true,
        "_uuid": "5ec793a96c1586476fdc1a143325c6303c5ce961"
      },
      "cell_type": "code",
      "source": "m_train_dataFrame = m_train_dataFrame.drop(['assetName'], axis = 1)",
      "execution_count": null,
      "outputs": []
    },
    {
      "metadata": {
        "_uuid": "c84aa7b21242ebfcf2e53cf5eea6c16c8cbebf29"
      },
      "cell_type": "markdown",
      "source": "**Visualizing Data**"
    },
    {
      "metadata": {
        "trusted": true,
        "_uuid": "cf3152a4de3e394feea6146b374a4f4cd3ce8d71"
      },
      "cell_type": "code",
      "source": "import matplotlib.pyplot as plt\nplot = (m_train_dataFrame.nunique()).sort_values(ascending=False)\nplot.plot(kind=\"bar\", figsize = (20,10), fontsize = 15)\nplt.xlabel(\"Columns\", fontsize = 15)\nplt.ylabel(\"Unique Values\", fontsize = 15)\nprint('Done!')",
      "execution_count": null,
      "outputs": []
    },
    {
      "metadata": {
        "trusted": true,
        "_uuid": "ed88ea4a8ce6ce71e5f3c56e75fdf0f82308d7c2"
      },
      "cell_type": "code",
      "source": "m_train_dataFrame.nunique()",
      "execution_count": null,
      "outputs": []
    },
    {
      "metadata": {
        "trusted": true,
        "_uuid": "34a3b2be05af12ea5d3c38b670cd35baae8d0aa9"
      },
      "cell_type": "code",
      "source": "import matplotlib.pyplot as plt\nplot = (n_train_dataFrame.nunique()).sort_values(ascending=False)\nplot.plot(kind=\"bar\", figsize = (20,10), fontsize = 15)\nplt.xlabel(\"Columns\", fontsize = 15)\nplt.ylabel(\"Unique Values\", fontsize = 15)\nprint('Done!')",
      "execution_count": null,
      "outputs": []
    },
    {
      "metadata": {
        "trusted": true,
        "_uuid": "f4a62f03484cb92efa8311e0ba8bd8dfb641ba12"
      },
      "cell_type": "code",
      "source": "n_train_dataFrame.nunique()",
      "execution_count": null,
      "outputs": []
    },
    {
      "metadata": {
        "_uuid": "d5497b9d499714e83fdd97e0815c25275199037c"
      },
      "cell_type": "markdown",
      "source": "**Visualizing Data ends here!**"
    },
    {
      "metadata": {
        "_uuid": "884fdbbdf1462a9bac4da79246b86287e96def8e"
      },
      "cell_type": "markdown",
      "source": "**Counting count of different values in each column of market data**"
    },
    {
      "metadata": {
        "trusted": true,
        "_uuid": "10073dce55017f438d203a6fac8a329a165c7453"
      },
      "cell_type": "code",
      "source": "m_train_dataFrame['universe'].value_counts()",
      "execution_count": null,
      "outputs": []
    },
    {
      "metadata": {
        "trusted": true,
        "_uuid": "8f7c5a5cb21bc691432c98716feb0e982d48a2a1"
      },
      "cell_type": "code",
      "source": "m_train_dataFrame['assetCode'].value_counts()",
      "execution_count": null,
      "outputs": []
    },
    {
      "metadata": {
        "trusted": true,
        "_uuid": "c5fcdb17a9c39b9aaf05a733748266ac670f3188"
      },
      "cell_type": "code",
      "source": "m_train_dataFrame['time'].value_counts()",
      "execution_count": null,
      "outputs": []
    },
    {
      "metadata": {
        "trusted": true,
        "_uuid": "623755143301d94b49b09e08658e8bac06bff581"
      },
      "cell_type": "code",
      "source": "m_train_dataFrame['volume'].value_counts()",
      "execution_count": null,
      "outputs": []
    },
    {
      "metadata": {
        "trusted": true,
        "_uuid": "b17f1fe53f1bfa3581417e3f4d274d534b0c8b3a"
      },
      "cell_type": "code",
      "source": "m_train_dataFrame['open'].value_counts()",
      "execution_count": null,
      "outputs": []
    },
    {
      "metadata": {
        "trusted": true,
        "_uuid": "b19ee7666696dfa969ef3923227c922e589049c2"
      },
      "cell_type": "code",
      "source": "m_train_dataFrame['close'].value_counts()",
      "execution_count": null,
      "outputs": []
    },
    {
      "metadata": {
        "trusted": true,
        "_uuid": "0a808be1abc56fb4ea40c203ee3ab3ace9d7e3df"
      },
      "cell_type": "code",
      "source": "m_train_dataFrame['returnsClosePrevRaw1'].value_counts()",
      "execution_count": null,
      "outputs": []
    },
    {
      "metadata": {
        "trusted": true,
        "_uuid": "03cca7627e7f1e30cfb7230fdcae298734ff78b6"
      },
      "cell_type": "code",
      "source": "m_train_dataFrame['returnsOpenPrevRaw1'].value_counts()",
      "execution_count": null,
      "outputs": []
    },
    {
      "metadata": {
        "trusted": true,
        "_uuid": "bde25402a1c12eead206d80d517a6d7ec6003818"
      },
      "cell_type": "code",
      "source": "m_train_dataFrame['returnsClosePrevRaw10'].value_counts()",
      "execution_count": null,
      "outputs": []
    },
    {
      "metadata": {
        "trusted": true,
        "_uuid": "2fe14f78c05ce41be1d5bf90f4171dbb37ffbf08"
      },
      "cell_type": "code",
      "source": "m_train_dataFrame['returnsOpenPrevRaw10'].value_counts()",
      "execution_count": null,
      "outputs": []
    },
    {
      "metadata": {
        "trusted": true,
        "_uuid": "60c9a8c15e4213ccdb48e57d519396ab4bfd8e8f"
      },
      "cell_type": "code",
      "source": "m_train_dataFrame['returnsOpenNextMktres10'].value_counts()",
      "execution_count": null,
      "outputs": []
    },
    {
      "metadata": {
        "_uuid": "809862d2f3aedec166b0758d9a999ab793fa5cac"
      },
      "cell_type": "markdown",
      "source": " **Counting count of different values in each column of news data**"
    },
    {
      "metadata": {
        "trusted": true,
        "_uuid": "c9d7a35a1a0e8741088dac8013e94ed6d40575ef"
      },
      "cell_type": "code",
      "source": "n_train_dataFrame['time'].value_counts()",
      "execution_count": null,
      "outputs": []
    },
    {
      "metadata": {
        "trusted": true,
        "_uuid": "7eaad5dee6cb25cc8122c5968a010a294bca8c96"
      },
      "cell_type": "code",
      "source": "n_train_dataFrame['sourceTimestamp'].value_counts()",
      "execution_count": null,
      "outputs": []
    },
    {
      "metadata": {
        "trusted": true,
        "_uuid": "06b561b06ea04f4900b5beef455b9c8cca3b5bc4"
      },
      "cell_type": "code",
      "source": "n_train_dataFrame['firstCreated'].value_counts()",
      "execution_count": null,
      "outputs": []
    },
    {
      "metadata": {
        "trusted": true,
        "_uuid": "c5800fef8cc3c532ba24ee56a92bbb4f86ed9743"
      },
      "cell_type": "code",
      "source": "n_train_dataFrame['sourceId'].value_counts()",
      "execution_count": null,
      "outputs": []
    },
    {
      "metadata": {
        "trusted": true,
        "_uuid": "420e4063fa30cf28766f254ddb2494c8210851a1"
      },
      "cell_type": "code",
      "source": "n_train_dataFrame['headline'].value_counts()",
      "execution_count": null,
      "outputs": []
    },
    {
      "metadata": {
        "trusted": true,
        "_uuid": "cb693fce724dc69cba2bc37d739f45d058e6d889"
      },
      "cell_type": "code",
      "source": "n_train_dataFrame['urgency'].value_counts()",
      "execution_count": null,
      "outputs": []
    },
    {
      "metadata": {
        "trusted": true,
        "_uuid": "432ff74fff7072d52a46a966c63e4c1ff0af9085"
      },
      "cell_type": "code",
      "source": "n_train_dataFrame['takeSequence'].value_counts()",
      "execution_count": null,
      "outputs": []
    },
    {
      "metadata": {
        "trusted": true,
        "_uuid": "56bccf871abd0d3b6b58e2744738b80ef25105ad"
      },
      "cell_type": "code",
      "source": "n_train_dataFrame['provider'].value_counts()",
      "execution_count": null,
      "outputs": []
    },
    {
      "metadata": {
        "trusted": true,
        "_uuid": "5e3a977c1940f9e298b4a79c3cf0b8da0e37d14e"
      },
      "cell_type": "code",
      "source": "n_train_dataFrame['subjects'].value_counts()",
      "execution_count": null,
      "outputs": []
    },
    {
      "metadata": {
        "trusted": true,
        "_uuid": "9150670019fe6c1dce14167d10348b0fb72a230e"
      },
      "cell_type": "code",
      "source": "n_train_dataFrame['audiences'].value_counts()",
      "execution_count": null,
      "outputs": []
    },
    {
      "metadata": {
        "trusted": true,
        "_uuid": "8878fc0542221974a9961e78d2e9e4718fc0109a"
      },
      "cell_type": "code",
      "source": "n_train_dataFrame['bodySize'].value_counts()",
      "execution_count": null,
      "outputs": []
    },
    {
      "metadata": {
        "trusted": true,
        "_uuid": "bb1cc4643ddae06ef3154777b0149321ee70c8ec"
      },
      "cell_type": "code",
      "source": "n_train_dataFrame['companyCount'].value_counts()",
      "execution_count": null,
      "outputs": []
    },
    {
      "metadata": {
        "trusted": true,
        "_uuid": "af883a858f5a091f79224e6f3ebd821c1143fe7d"
      },
      "cell_type": "code",
      "source": "n_train_dataFrame['headlineTag'].value_counts()",
      "execution_count": null,
      "outputs": []
    },
    {
      "metadata": {
        "trusted": true,
        "_uuid": "abb5082e738a9f2729b6bd1a6f219957ea14d4d3"
      },
      "cell_type": "code",
      "source": "n_train_dataFrame['marketCommentary'].value_counts()",
      "execution_count": null,
      "outputs": []
    },
    {
      "metadata": {
        "trusted": true,
        "_uuid": "c59df18e9d24af8528abc5b714020c94d6f02d39"
      },
      "cell_type": "code",
      "source": "n_train_dataFrame['sentenceCount'].value_counts()",
      "execution_count": null,
      "outputs": []
    },
    {
      "metadata": {
        "trusted": true,
        "_uuid": "6c518f4930508418f9f8ee89998d2d58bc9423d8"
      },
      "cell_type": "code",
      "source": "n_train_dataFrame['wordCount'].value_counts()",
      "execution_count": null,
      "outputs": []
    },
    {
      "metadata": {
        "trusted": true,
        "_uuid": "225eb62b9e2dc74f00fc92c2c058cfbb0c4e8fec"
      },
      "cell_type": "code",
      "source": "n_train_dataFrame['assetCodes'].value_counts()",
      "execution_count": null,
      "outputs": []
    },
    {
      "metadata": {
        "trusted": true,
        "_uuid": "0d225eef95bc83c55b42e7702ca47c8b244479d1"
      },
      "cell_type": "code",
      "source": "n_train_dataFrame['assetName'].value_counts()",
      "execution_count": null,
      "outputs": []
    },
    {
      "metadata": {
        "trusted": true,
        "_uuid": "c3448db1de050922a7e80b66f02bbec744450447"
      },
      "cell_type": "code",
      "source": "n_train_dataFrame['firstMentionSentence'].value_counts()",
      "execution_count": null,
      "outputs": []
    },
    {
      "metadata": {
        "trusted": true,
        "_uuid": "1ee3501e2e4f6485f73c747ee58a0f13c65167a7"
      },
      "cell_type": "code",
      "source": "n_train_dataFrame['relevance'].value_counts()",
      "execution_count": null,
      "outputs": []
    },
    {
      "metadata": {
        "trusted": true,
        "_uuid": "7a407fc3d09d14623d99d0f7d550df57a9754eb7"
      },
      "cell_type": "code",
      "source": "n_train_dataFrame['sentimentClass'].value_counts()",
      "execution_count": null,
      "outputs": []
    },
    {
      "metadata": {
        "trusted": true,
        "_uuid": "1a0c0f3aae836806171b03ccb155fb22a6896cbf"
      },
      "cell_type": "code",
      "source": "n_train_dataFrame['sentimentNegative'].value_counts()",
      "execution_count": null,
      "outputs": []
    },
    {
      "metadata": {
        "trusted": true,
        "_uuid": "191744eeb8e67ca2f8daafaea0fec49feccc36df"
      },
      "cell_type": "code",
      "source": "n_train_dataFrame['sentimentNeutral'].value_counts()",
      "execution_count": null,
      "outputs": []
    },
    {
      "metadata": {
        "trusted": true,
        "_uuid": "4368c45a5324ae8aecd32d650f96a834cac84654"
      },
      "cell_type": "code",
      "source": "n_train_dataFrame['sentimentPositive'].value_counts()",
      "execution_count": null,
      "outputs": []
    },
    {
      "metadata": {
        "trusted": true,
        "_uuid": "da3a815bd9b75d7a4e424460a8ccf41187a00ec2"
      },
      "cell_type": "code",
      "source": "n_train_dataFrame['sentimentWordCount'].value_counts()",
      "execution_count": null,
      "outputs": []
    },
    {
      "metadata": {
        "trusted": true,
        "_uuid": "d480fb06a78da6ebe123610eb47d2b53fabaee11"
      },
      "cell_type": "code",
      "source": "n_train_dataFrame['noveltyCount12H'].value_counts()",
      "execution_count": null,
      "outputs": []
    },
    {
      "metadata": {
        "trusted": true,
        "_uuid": "72ea2b3481631844310ebbf47d322770d8b39a30"
      },
      "cell_type": "code",
      "source": "n_train_dataFrame['noveltyCount24H'].value_counts()",
      "execution_count": null,
      "outputs": []
    },
    {
      "metadata": {
        "trusted": true,
        "_uuid": "8fdfbb82d51656730cb0769153ae897bf84c8362"
      },
      "cell_type": "code",
      "source": "n_train_dataFrame['noveltyCount3D'].value_counts()",
      "execution_count": null,
      "outputs": []
    },
    {
      "metadata": {
        "trusted": true,
        "_uuid": "9285c6a0d3de149a19616b83e86a9252335efffc"
      },
      "cell_type": "code",
      "source": "n_train_dataFrame['noveltyCount5D'].value_counts()",
      "execution_count": null,
      "outputs": []
    },
    {
      "metadata": {
        "trusted": true,
        "_uuid": "4890a7182f2fad80a4d9fd8a5788e081b6312bff"
      },
      "cell_type": "code",
      "source": "n_train_dataFrame['noveltyCount7D'].value_counts()",
      "execution_count": null,
      "outputs": []
    },
    {
      "metadata": {
        "trusted": true,
        "_uuid": "40a0cfb3cba520f0cd52723d8532f37db67b1f68"
      },
      "cell_type": "code",
      "source": "n_train_dataFrame['volumeCounts12H'].value_counts()",
      "execution_count": null,
      "outputs": []
    },
    {
      "metadata": {
        "trusted": true,
        "_uuid": "08c04386b019707bb048eeeee17c72cc81d1df72"
      },
      "cell_type": "code",
      "source": "n_train_dataFrame['volumeCounts24H'].value_counts()",
      "execution_count": null,
      "outputs": []
    },
    {
      "metadata": {
        "trusted": true,
        "_uuid": "a2060fb3b7bc075928b7b2c9efeb25ab34affe3e"
      },
      "cell_type": "code",
      "source": "n_train_dataFrame['volumeCounts3D'].value_counts()",
      "execution_count": null,
      "outputs": []
    },
    {
      "metadata": {
        "trusted": true,
        "_uuid": "c849d76a568f760963d26bccdc2a489ec0d96712"
      },
      "cell_type": "code",
      "source": "n_train_dataFrame['volumeCounts5D'].value_counts()",
      "execution_count": null,
      "outputs": []
    },
    {
      "metadata": {
        "trusted": true,
        "_uuid": "ecb858016bee2f4e1704e72f7464dd020dfe952e"
      },
      "cell_type": "code",
      "source": "n_train_dataFrame['volumeCounts7D'].value_counts()",
      "execution_count": null,
      "outputs": []
    },
    {
      "metadata": {
        "_uuid": "4fcbd2d059ba5b10208512de61007a22d3dbb67e"
      },
      "cell_type": "markdown",
      "source": "**Conclusion**\n1. The length of volumeCounts12H, volumeCounts24H, volumeCounts3D, volumeCounts5D, volumeCounts7D is almost same\n2. The length of noveltyCounts12H, noveltyCounts24H, noveltyCounts3D, noveltyCounts5D, noveltyCounts7D is exactly same\n3. length of time and sourceTimeStamp is almost te same\nAll of these in news data"
    },
    {
      "metadata": {
        "_uuid": "626875344c813a9840ba8af663b06d66a6b517b0"
      },
      "cell_type": "markdown",
      "source": "**The code in next section changes time into unix time stamp. The code needs to be more efficient to say the least!**"
    },
    {
      "metadata": {
        "_uuid": "a4801088ced469c7fd3f5a7efc2478a991ffad8e"
      },
      "cell_type": "markdown",
      "source": "from datetime import datetime\nfrom time import mktime\nfor i in range(len(m_train_dataFrame['time'])):\n    m_train_dataFrame['time'][i] = mktime(m_train_dataFrame['time'][i].timetuple())\n    print(m_train_dataFrame['time'][i])"
    },
    {
      "metadata": {
        "trusted": true,
        "_uuid": "3cba519830d38ed26cbd81ef6f0cf2c8e7a90f5e"
      },
      "cell_type": "code",
      "source": "m_train_dataFrame.dropna(thresh =2)\nn_train_dataFrame.dropna(thresh =2)",
      "execution_count": null,
      "outputs": []
    },
    {
      "metadata": {
        "_uuid": "51b3d6c869d1ec2e2b064b791de391a9f742bc17"
      },
      "cell_type": "markdown",
      "source": "> ***Subtracting close from open in market data. That will give the change in rate of a specific stock on that particular day.***"
    },
    {
      "metadata": {
        "trusted": true,
        "_uuid": "becb322ba89853ebb35d411088ca36d7847b4310"
      },
      "cell_type": "code",
      "source": "count = 0\nfor i in range(20000):\n    m_train_dataFrame['open'][i] =  m_train_dataFrame['close'][i] -  m_train_dataFrame['open'][i]\n    count = count + 1\n    print(count)\nprint('done!')",
      "execution_count": null,
      "outputs": []
    },
    {
      "metadata": {
        "trusted": true,
        "_uuid": "7977d844750f6c3ebec0214127f5a9fbacc9c63f"
      },
      "cell_type": "markdown",
      "source": "**One hot encoding here!**"
    },
    {
      "metadata": {
        "trusted": true,
        "_uuid": "ebea2578e41de92d26f7d664dac43c1184030ebc"
      },
      "cell_type": "code",
      "source": "print(count)",
      "execution_count": null,
      "outputs": []
    }
  ],
  "metadata": {
    "kernelspec": {
      "display_name": "Python 3",
      "language": "python",
      "name": "python3"
    },
    "language_info": {
      "name": "python",
      "version": "3.6.6",
      "mimetype": "text/x-python",
      "codemirror_mode": {
        "name": "ipython",
        "version": 3
      },
      "pygments_lexer": "ipython3",
      "nbconvert_exporter": "python",
      "file_extension": ".py"
    }
  },
  "nbformat": 4,
  "nbformat_minor": 1
}