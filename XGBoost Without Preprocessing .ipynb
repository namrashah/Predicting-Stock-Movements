{
  "cells": [
    {
      "metadata": {
        "_uuid": "8f2839f25d086af736a60e9eeb907d3b93b6e0e5",
        "_cell_guid": "b1076dfc-b9ad-4769-8c92-a6c4dae69d19",
        "trusted": true
      },
      "cell_type": "code",
      "source": "# This Python 3 environment comes with many helpful analytics libraries installed\n# It is defined by the kaggle/python docker image: https://github.com/kaggle/docker-python\n# For example, here's several helpful packages to load in \n\nimport numpy as np # linear algebra\nimport pandas as pd # data processing, CSV file I/O (e.g. pd.read_csv)\n\n# Input data files are available in the \"../input/\" directory.\n# For example, running this (by clicking run or pressing Shift+Enter) will list the files in the input directory\n\nimport os\nprint(os.listdir(\"../input\"))\nfrom kaggle.competitions import twosigmanews\nenv = twosigmanews.make_env()\n(m_train, n_train) = env.get_training_data()\n# Any results you write to the current directory are saved as output.",
      "execution_count": 1,
      "outputs": [
        {
          "output_type": "stream",
          "text": "['marketdata_sample.csv', 'news_sample.csv']\nLoading the data... This could take a minute.\nDone!\n",
          "name": "stdout"
        }
      ]
    },
    {
      "metadata": {
        "_cell_guid": "79c7e3d0-c299-4dcb-8224-4455121ee9b0",
        "_uuid": "d629ff2d2480ee46fbb7e2d37f6b5fab8052498a",
        "trusted": true
      },
      "cell_type": "code",
      "source": "print(m_train)",
      "execution_count": 2,
      "outputs": [
        {
          "output_type": "stream",
          "text": "                             time   ...    universe\n0       2007-02-01 22:00:00+00:00   ...         1.0\n1       2007-02-01 22:00:00+00:00   ...         0.0\n2       2007-02-01 22:00:00+00:00   ...         1.0\n3       2007-02-01 22:00:00+00:00   ...         1.0\n4       2007-02-01 22:00:00+00:00   ...         1.0\n5       2007-02-01 22:00:00+00:00   ...         1.0\n6       2007-02-01 22:00:00+00:00   ...         0.0\n7       2007-02-01 22:00:00+00:00   ...         0.0\n8       2007-02-01 22:00:00+00:00   ...         1.0\n9       2007-02-01 22:00:00+00:00   ...         1.0\n10      2007-02-01 22:00:00+00:00   ...         0.0\n11      2007-02-01 22:00:00+00:00   ...         1.0\n12      2007-02-01 22:00:00+00:00   ...         1.0\n13      2007-02-01 22:00:00+00:00   ...         1.0\n14      2007-02-01 22:00:00+00:00   ...         1.0\n15      2007-02-01 22:00:00+00:00   ...         0.0\n16      2007-02-01 22:00:00+00:00   ...         0.0\n17      2007-02-01 22:00:00+00:00   ...         0.0\n18      2007-02-01 22:00:00+00:00   ...         1.0\n19      2007-02-01 22:00:00+00:00   ...         1.0\n20      2007-02-01 22:00:00+00:00   ...         1.0\n21      2007-02-01 22:00:00+00:00   ...         1.0\n22      2007-02-01 22:00:00+00:00   ...         1.0\n23      2007-02-01 22:00:00+00:00   ...         1.0\n24      2007-02-01 22:00:00+00:00   ...         1.0\n25      2007-02-01 22:00:00+00:00   ...         1.0\n26      2007-02-01 22:00:00+00:00   ...         0.0\n27      2007-02-01 22:00:00+00:00   ...         1.0\n28      2007-02-01 22:00:00+00:00   ...         1.0\n29      2007-02-01 22:00:00+00:00   ...         0.0\n...                           ...   ...         ...\n4072926 2016-12-30 22:00:00+00:00   ...         1.0\n4072927 2016-12-30 22:00:00+00:00   ...         0.0\n4072928 2016-12-30 22:00:00+00:00   ...         0.0\n4072929 2016-12-30 22:00:00+00:00   ...         1.0\n4072930 2016-12-30 22:00:00+00:00   ...         1.0\n4072931 2016-12-30 22:00:00+00:00   ...         1.0\n4072932 2016-12-30 22:00:00+00:00   ...         1.0\n4072933 2016-12-30 22:00:00+00:00   ...         1.0\n4072934 2016-12-30 22:00:00+00:00   ...         0.0\n4072935 2016-12-30 22:00:00+00:00   ...         1.0\n4072936 2016-12-30 22:00:00+00:00   ...         1.0\n4072937 2016-12-30 22:00:00+00:00   ...         1.0\n4072938 2016-12-30 22:00:00+00:00   ...         1.0\n4072939 2016-12-30 22:00:00+00:00   ...         1.0\n4072940 2016-12-30 22:00:00+00:00   ...         0.0\n4072941 2016-12-30 22:00:00+00:00   ...         1.0\n4072942 2016-12-30 22:00:00+00:00   ...         1.0\n4072943 2016-12-30 22:00:00+00:00   ...         0.0\n4072944 2016-12-30 22:00:00+00:00   ...         1.0\n4072945 2016-12-30 22:00:00+00:00   ...         1.0\n4072946 2016-12-30 22:00:00+00:00   ...         1.0\n4072947 2016-12-30 22:00:00+00:00   ...         0.0\n4072948 2016-12-30 22:00:00+00:00   ...         0.0\n4072949 2016-12-30 22:00:00+00:00   ...         0.0\n4072950 2016-12-30 22:00:00+00:00   ...         1.0\n4072951 2016-12-30 22:00:00+00:00   ...         0.0\n4072952 2016-12-30 22:00:00+00:00   ...         0.0\n4072953 2016-12-30 22:00:00+00:00   ...         0.0\n4072954 2016-12-30 22:00:00+00:00   ...         1.0\n4072955 2016-12-30 22:00:00+00:00   ...         1.0\n\n[4072956 rows x 16 columns]\n",
          "name": "stdout"
        }
      ]
    },
    {
      "metadata": {
        "trusted": true,
        "_uuid": "8b227bdb9338ac7f610c04b2f4f484fcbe083a4f"
      },
      "cell_type": "code",
      "source": "m_train.time = m_train.time.dt.date\nn_train.time = n_train.time.dt.hour\nn_train.sourceTimestamp = n_train.sourceTimestamp.dt.hour\nn_train.firstCreated = n_train.firstCreated.dt.date",
      "execution_count": 3,
      "outputs": []
    },
    {
      "metadata": {
        "trusted": true,
        "_uuid": "e24b64a74a5c68aae9393f4818b2b4b10a386e77"
      },
      "cell_type": "code",
      "source": "n_train['assetCodesLen'] = n_train['assetCodes'].map(lambda x: len(eval(x)))\nn_train['assetCodes'] = n_train['assetCodes'].map(lambda x: list(eval(x))[0])",
      "execution_count": 4,
      "outputs": []
    },
    {
      "metadata": {
        "trusted": true,
        "_uuid": "eeda081a08e60b0720e6c9bfb36498e76a5e0a44"
      },
      "cell_type": "code",
      "source": "grouping_cols = ['firstCreated', 'assetCodes']",
      "execution_count": 5,
      "outputs": []
    },
    {
      "metadata": {
        "trusted": true,
        "_uuid": "ec4edb694d34754cdc21d93615fd2558f1671926"
      },
      "cell_type": "code",
      "source": "n_train = n_train.groupby(grouping_cols, as_index=False).median()",
      "execution_count": 6,
      "outputs": []
    },
    {
      "metadata": {
        "trusted": true,
        "_uuid": "59d5de27202708c8ea25f83361deb778d614b3b6"
      },
      "cell_type": "code",
      "source": "print(n_train)",
      "execution_count": null,
      "outputs": []
    },
    {
      "metadata": {
        "trusted": true,
        "_uuid": "6c4bff37e16abe1248f974cca89800c9898c2755"
      },
      "cell_type": "code",
      "source": "m_train = pd.merge(m_train, n_train, how='left', left_on= ['time', 'assetCode'], right_on= ['firstCreated', 'assetCodes'])",
      "execution_count": 7,
      "outputs": []
    },
    {
      "metadata": {
        "trusted": true,
        "_uuid": "b99a7472ff490ab7a1ca365556e0b84004716150"
      },
      "cell_type": "code",
      "source": "m_train",
      "execution_count": null,
      "outputs": []
    },
    {
      "metadata": {
        "trusted": true,
        "_uuid": "ba4635bd61ab835ae9791555c7d3a515c218f572"
      },
      "cell_type": "code",
      "source": "target = m_train.returnsOpenNextMktres10 >= 0",
      "execution_count": 8,
      "outputs": []
    },
    {
      "metadata": {
        "trusted": true,
        "_uuid": "bdab79c7452d332d1ef3e2a7f58ac2034147b94b"
      },
      "cell_type": "code",
      "source": "target = target.values",
      "execution_count": 9,
      "outputs": []
    },
    {
      "metadata": {
        "trusted": true,
        "_uuid": "a6a57d25350a16b2a7a01dc953b4d1687e778b2d"
      },
      "cell_type": "code",
      "source": "op = m_train.returnsOpenNextMktres10.values\nop",
      "execution_count": 10,
      "outputs": [
        {
          "output_type": "execute_result",
          "execution_count": 10,
          "data": {
            "text/plain": "array([ 0.03467204,  0.02780328,  0.02443291, ...,  0.01170343,\n        0.08336656, -0.0162204 ])"
          },
          "metadata": {}
        }
      ]
    },
    {
      "metadata": {
        "trusted": true,
        "_uuid": "63dcf26698f0fd45fa600af23f1b8c712087298f"
      },
      "cell_type": "code",
      "source": "reduced_cols = [c for c in m_train if c not in ['assetCode', 'assetCodes', 'assetCodesLen', 'assetName', 'audiences', \n                                             'firstCreated', 'headline', 'headlineTag', 'marketCommentary', 'provider', \n                                             'returnsOpenNextMktres10', 'sourceId', 'subjects', 'time', 'time_x', 'universe','sourceTimestamp']]",
      "execution_count": 11,
      "outputs": []
    },
    {
      "metadata": {
        "trusted": true,
        "_uuid": "a0f1fce1f9788e6ef6fc7766190c6f328a63e352"
      },
      "cell_type": "code",
      "source": "reduced_cols",
      "execution_count": null,
      "outputs": []
    },
    {
      "metadata": {
        "trusted": true,
        "_uuid": "3978d2991624b5df0a16a1d0a29c9c73876deb28"
      },
      "cell_type": "code",
      "source": "final_dataset = m_train[reduced_cols].values",
      "execution_count": 12,
      "outputs": []
    },
    {
      "metadata": {
        "trusted": true,
        "_uuid": "0da661dff0f4549c0719a09b1fb9b5fc46542b6d"
      },
      "cell_type": "code",
      "source": "final_dataset",
      "execution_count": null,
      "outputs": []
    },
    {
      "metadata": {
        "trusted": true,
        "_uuid": "7d568471fef5ed516b8118f38e24c1b3094c0d76"
      },
      "cell_type": "code",
      "source": "from sklearn import *\nX_train, X_test, target_train, target_test, op_train, op_test = model_selection.train_test_split(final_dataset, target, op, test_size=0.3, random_state=53)\n",
      "execution_count": 13,
      "outputs": []
    },
    {
      "metadata": {
        "trusted": true,
        "_uuid": "15daebc155b33cb5dc888fb1a0a962916c6ff58a"
      },
      "cell_type": "code",
      "source": "from xgboost import XGBClassifier",
      "execution_count": 14,
      "outputs": []
    },
    {
      "metadata": {
        "trusted": true,
        "_uuid": "c4c97281af3e0aedf811ba66bbfb2f9dd735dfd9"
      },
      "cell_type": "code",
      "source": "xgb = XGBClassifier(n_jobs=2,n_estimators=100,max_depth=8,eta=0.3)",
      "execution_count": 18,
      "outputs": []
    },
    {
      "metadata": {
        "trusted": true,
        "_uuid": "a0d2e56a938d881353288e062c12da84e548ae2d"
      },
      "cell_type": "code",
      "source": "xgb.fit(X_train, target_train)",
      "execution_count": 19,
      "outputs": [
        {
          "output_type": "execute_result",
          "execution_count": 19,
          "data": {
            "text/plain": "XGBClassifier(base_score=0.5, booster='gbtree', colsample_bylevel=1,\n       colsample_bytree=1, eta=0.3, gamma=0, learning_rate=0.1,\n       max_delta_step=0, max_depth=8, min_child_weight=1, missing=None,\n       n_estimators=100, n_jobs=2, nthread=None,\n       objective='binary:logistic', random_state=0, reg_alpha=0,\n       reg_lambda=1, scale_pos_weight=1, seed=None, silent=True,\n       subsample=1)"
          },
          "metadata": {}
        }
      ]
    },
    {
      "metadata": {
        "trusted": true,
        "_uuid": "f8651d6b9eb92bf02e7ebb0d022fb176b9d444ba"
      },
      "cell_type": "code",
      "source": "from sklearn.metrics import accuracy_score\naccuracy_score(xgb.predict(X_test),target_test)",
      "execution_count": null,
      "outputs": []
    }
  ],
  "metadata": {
    "kernelspec": {
      "display_name": "Python 3",
      "language": "python",
      "name": "python3"
    },
    "language_info": {
      "name": "python",
      "version": "3.6.6",
      "mimetype": "text/x-python",
      "codemirror_mode": {
        "name": "ipython",
        "version": 3
      },
      "pygments_lexer": "ipython3",
      "nbconvert_exporter": "python",
      "file_extension": ".py"
    }
  },
  "nbformat": 4,
  "nbformat_minor": 1
}